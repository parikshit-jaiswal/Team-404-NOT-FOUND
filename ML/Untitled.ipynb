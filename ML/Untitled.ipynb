{
 "cells": [
  {
   "cell_type": "code",
   "execution_count": 1,
   "id": "9f86a9a7-0208-43c9-b81d-97242104268a",
   "metadata": {},
   "outputs": [
    {
     "data": {
      "text/plain": [
       "'C:\\\\Users\\\\aksha\\\\anaconda3\\\\envs\\\\hacka\\\\python.exe'"
      ]
     },
     "execution_count": 1,
     "metadata": {},
     "output_type": "execute_result"
    }
   ],
   "source": [
    "import sys\n",
    "sys.executable"
   ]
  },
  {
   "cell_type": "code",
   "execution_count": 1,
   "id": "a3a2d30a-dc75-438a-ad15-85ba402417fb",
   "metadata": {},
   "outputs": [],
   "source": [
    "import tensorflow as tf\n",
    "from tensorflow.keras.preprocessing.image import ImageDataGenerator\n",
    "from tensorflow.keras import layers, models\n",
    "import os"
   ]
  },
  {
   "cell_type": "code",
   "execution_count": 2,
   "id": "edd6b112-1a1a-4ecd-a32c-8bbca49966af",
   "metadata": {},
   "outputs": [],
   "source": [
    "train_dir = \"C:/Users/aksha/Desktop/Coding/hacka/archive (3)/train\"\n",
    "test_dir = \"C:/Users/aksha/Desktop/Coding/hacka/archive (3)/test\""
   ]
  },
  {
   "cell_type": "code",
   "execution_count": 3,
   "id": "675bc4ab-08f8-4bfa-97c9-14cf721be3ad",
   "metadata": {},
   "outputs": [],
   "source": [
    "img_height, img_width = 48, 48\n",
    "batch_size = 32\n",
    "num_classes = 7\n",
    "\n",
    "train_datagen = ImageDataGenerator(\n",
    "    rescale=1.0 / 255,  \n",
    "    rotation_range=15,\n",
    "    width_shift_range=0.2,\n",
    "    height_shift_range=0.2,\n",
    "    shear_range=0.2,\n",
    "    zoom_range=0.2,\n",
    "    horizontal_flip=True,\n",
    "    fill_mode=\"nearest\",\n",
    ")\n",
    "\n",
    "test_datagen = ImageDataGenerator(rescale=1.0 / 255)"
   ]
  },
  {
   "cell_type": "code",
   "execution_count": 4,
   "id": "88621f2b-5f50-4a1f-8313-f9ad12f9c4fb",
   "metadata": {},
   "outputs": [
    {
     "name": "stdout",
     "output_type": "stream",
     "text": [
      "Found 28709 images belonging to 7 classes.\n",
      "Found 7178 images belonging to 7 classes.\n"
     ]
    }
   ],
   "source": [
    "train_data = train_datagen.flow_from_directory(\n",
    "    train_dir,\n",
    "    target_size=(img_height, img_width),\n",
    "    color_mode='grayscale',  \n",
    "    batch_size=batch_size,\n",
    "    class_mode=\"categorical\",\n",
    ")\n",
    "\n",
    "\n",
    "test_data = test_datagen.flow_from_directory(\n",
    "    test_dir,\n",
    "    target_size=(img_height, img_width),\n",
    "    color_mode='grayscale',  \n",
    "    batch_size=batch_size,\n",
    "    class_mode=\"categorical\",\n",
    ")"
   ]
  },
  {
   "cell_type": "code",
   "execution_count": 5,
   "id": "359c356a-852e-4dfb-8bff-14c088197113",
   "metadata": {},
   "outputs": [],
   "source": [
    "model = models.Sequential([\n",
    "    layers.Conv2D(32, (3, 3), activation=\"relu\", input_shape=(img_height, img_width, 1)),  # Input shape for grayscale\n",
    "    layers.MaxPooling2D((2, 2)),\n",
    "    layers.Conv2D(64, (3, 3), activation=\"relu\"),\n",
    "    layers.MaxPooling2D((2, 2)),\n",
    "    layers.Conv2D(128, (3, 3), activation=\"relu\"),\n",
    "    layers.MaxPooling2D((2, 2)),\n",
    "    layers.Flatten(),\n",
    "    layers.Dense(128, activation=\"relu\"),\n",
    "    layers.Dropout(0.5),\n",
    "    layers.Dense(num_classes, activation=\"softmax\"),\n",
    "])"
   ]
  },
  {
   "cell_type": "code",
   "execution_count": 7,
   "id": "43f72e79-e9f3-4ddf-9d88-1ff9f9302a7d",
   "metadata": {},
   "outputs": [
    {
     "name": "stdout",
     "output_type": "stream",
     "text": [
      "Epoch 1/25\n",
      "898/898 [==============================] - 39s 43ms/step - loss: 1.2797 - accuracy: 0.5174 - val_loss: 1.1647 - val_accuracy: 0.5621\n",
      "Epoch 2/25\n",
      "898/898 [==============================] - 36s 40ms/step - loss: 1.2825 - accuracy: 0.5141 - val_loss: 1.1355 - val_accuracy: 0.5676\n",
      "Epoch 3/25\n",
      "898/898 [==============================] - 37s 41ms/step - loss: 1.2780 - accuracy: 0.5164 - val_loss: 1.2016 - val_accuracy: 0.5451\n",
      "Epoch 4/25\n",
      "898/898 [==============================] - 37s 41ms/step - loss: 1.2720 - accuracy: 0.5225 - val_loss: 1.1532 - val_accuracy: 0.5684\n",
      "Epoch 5/25\n",
      "898/898 [==============================] - 38s 42ms/step - loss: 1.2725 - accuracy: 0.5159 - val_loss: 1.1381 - val_accuracy: 0.5717\n",
      "Epoch 6/25\n",
      "898/898 [==============================] - 36s 40ms/step - loss: 1.2651 - accuracy: 0.5203 - val_loss: 1.1563 - val_accuracy: 0.5616\n",
      "Epoch 7/25\n",
      "898/898 [==============================] - 38s 42ms/step - loss: 1.2723 - accuracy: 0.5201 - val_loss: 1.1550 - val_accuracy: 0.5666\n",
      "Epoch 8/25\n",
      "898/898 [==============================] - 39s 43ms/step - loss: 1.2595 - accuracy: 0.5258 - val_loss: 1.1693 - val_accuracy: 0.5563\n",
      "Epoch 9/25\n",
      "898/898 [==============================] - 38s 42ms/step - loss: 1.2613 - accuracy: 0.5228 - val_loss: 1.1359 - val_accuracy: 0.5687\n",
      "Epoch 10/25\n",
      "898/898 [==============================] - 39s 43ms/step - loss: 1.2600 - accuracy: 0.5268 - val_loss: 1.1150 - val_accuracy: 0.5762\n",
      "Epoch 11/25\n",
      "898/898 [==============================] - 40s 44ms/step - loss: 1.2561 - accuracy: 0.5260 - val_loss: 1.1319 - val_accuracy: 0.5674\n",
      "Epoch 12/25\n",
      "898/898 [==============================] - 42s 47ms/step - loss: 1.2547 - accuracy: 0.5252 - val_loss: 1.1227 - val_accuracy: 0.5790\n",
      "Epoch 13/25\n",
      "898/898 [==============================] - 35s 39ms/step - loss: 1.2542 - accuracy: 0.5277 - val_loss: 1.1531 - val_accuracy: 0.5639\n",
      "Epoch 14/25\n",
      "898/898 [==============================] - 38s 42ms/step - loss: 1.2507 - accuracy: 0.5240 - val_loss: 1.1364 - val_accuracy: 0.5688\n",
      "Epoch 15/25\n",
      "898/898 [==============================] - 38s 42ms/step - loss: 1.2450 - accuracy: 0.5286 - val_loss: 1.1406 - val_accuracy: 0.5727\n",
      "Epoch 16/25\n",
      "898/898 [==============================] - 44s 49ms/step - loss: 1.2463 - accuracy: 0.5299 - val_loss: 1.1222 - val_accuracy: 0.5706\n",
      "Epoch 17/25\n",
      "898/898 [==============================] - 42s 46ms/step - loss: 1.2390 - accuracy: 0.5332 - val_loss: 1.1403 - val_accuracy: 0.5676\n",
      "Epoch 18/25\n",
      "898/898 [==============================] - 45s 50ms/step - loss: 1.2360 - accuracy: 0.5350 - val_loss: 1.1217 - val_accuracy: 0.5772\n",
      "Epoch 19/25\n",
      "898/898 [==============================] - 33s 36ms/step - loss: 1.2372 - accuracy: 0.5345 - val_loss: 1.1401 - val_accuracy: 0.5722\n",
      "Epoch 20/25\n",
      "898/898 [==============================] - 33s 37ms/step - loss: 1.2381 - accuracy: 0.5346 - val_loss: 1.1242 - val_accuracy: 0.5743\n",
      "Epoch 21/25\n",
      "898/898 [==============================] - 36s 40ms/step - loss: 1.2311 - accuracy: 0.5386 - val_loss: 1.1011 - val_accuracy: 0.5800\n",
      "Epoch 22/25\n",
      "898/898 [==============================] - 33s 37ms/step - loss: 1.2326 - accuracy: 0.5349 - val_loss: 1.1226 - val_accuracy: 0.5804\n",
      "Epoch 23/25\n",
      "898/898 [==============================] - 33s 37ms/step - loss: 1.2301 - accuracy: 0.5341 - val_loss: 1.1214 - val_accuracy: 0.5748\n",
      "Epoch 24/25\n",
      "898/898 [==============================] - 35s 39ms/step - loss: 1.2276 - accuracy: 0.5353 - val_loss: 1.1447 - val_accuracy: 0.5698\n",
      "Epoch 25/25\n",
      "898/898 [==============================] - 38s 43ms/step - loss: 1.2239 - accuracy: 0.5378 - val_loss: 1.1169 - val_accuracy: 0.5763\n"
     ]
    }
   ],
   "source": [
    "model.compile(\n",
    "    optimizer=\"adam\",\n",
    "    loss=\"categorical_crossentropy\",\n",
    "    metrics=[\"accuracy\"],\n",
    ")\n",
    "\n",
    "epochs = 25\n",
    "history = model.fit(\n",
    "    train_data,\n",
    "    validation_data=test_data,\n",
    "    epochs=epochs,\n",
    ")"
   ]
  },
  {
   "cell_type": "code",
   "execution_count": 8,
   "id": "dca2c48d-7b07-46b9-9344-b1fd13cea0d0",
   "metadata": {},
   "outputs": [
    {
     "name": "stdout",
     "output_type": "stream",
     "text": [
      "Model training complete and saved as emotion_model.h5.\n"
     ]
    }
   ],
   "source": [
    "model.save(\"emotion_model.h5\")\n",
    "\n",
    "print(\"Model training complete and saved as emotion_model.h5.\")"
   ]
  }
 ],
 "metadata": {
  "kernelspec": {
   "display_name": "Python 3 (ipykernel)",
   "language": "python",
   "name": "python3"
  },
  "language_info": {
   "codemirror_mode": {
    "name": "ipython",
    "version": 3
   },
   "file_extension": ".py",
   "mimetype": "text/x-python",
   "name": "python",
   "nbconvert_exporter": "python",
   "pygments_lexer": "ipython3",
   "version": "3.9.18"
  }
 },
 "nbformat": 4,
 "nbformat_minor": 5
}
